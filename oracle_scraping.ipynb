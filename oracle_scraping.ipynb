{
 "cells": [
  {
   "cell_type": "code",
   "execution_count": 1,
   "metadata": {},
   "outputs": [],
   "source": [
    "# Import Dependencies\n",
    "import pandas as pd\n",
    "from splinter import Browser\n",
    "from bs4 import BeautifulSoup\n",
    "import time"
   ]
  },
  {
   "cell_type": "code",
   "execution_count": 2,
   "metadata": {},
   "outputs": [],
   "source": [
    "# Function to remove formatting from gatherer\n",
    "def extract_name(card, card_long):\n",
    "    length = len(card_long)\n",
    "    good_string = card_long[length-len(card):-1]\n",
    "    good_string += card_long[length-1]\n",
    "    return(good_string)\n",
    "    "
   ]
  },
  {
   "cell_type": "code",
   "execution_count": 3,
   "metadata": {},
   "outputs": [],
   "source": [
    "# Create browser to navigate oracle\n",
    "executable_path = {'executable_path': 'chromedriver.exe'}\n",
    "browser = Browser('chrome', **executable_path, headless=False)\n",
    "url = 'https://gatherer.wizards.com/Pages/Default.aspx'\n",
    "browser.visit(url)"
   ]
  },
  {
   "cell_type": "code",
   "execution_count": 4,
   "metadata": {
    "scrolled": true
   },
   "outputs": [],
   "source": [
    "# Here will be the list with all cards which will be converted from a csv.\n",
    "# Temporarily, these cards are chosen so each mana symbol is represented at least once.\n",
    "cards = [\"Arcum's Astrolabe\", \"Jund Hackblade\", \"Ponder\", \"Stonecoil Serpent\",\n",
    "         \"Reaper King\", \"Kozilek, the Great Distortion\", \"Apostle's Blessing\"]\n",
    "\n",
    "# Empty list for mismatched links is crafted\n",
    "bad_link = []\n",
    "\n",
    "# Empty lists are initialized.\n",
    "# Mana is saved as [gen]eric, [snow], [c]olorless, (2b)rid, (phy)rexian, [v]ariable, and\n",
    "#    [w]hite, bl[u]e, [b]lack, [r]ed, and [g]reen (hybrid, phyrexian, and 2brid mana are counted twice).\n",
    "# Converted Mana cost (cmc) is the total mana needed to cast (this will be less than total of columns if hybrid mana)\n",
    "mana_gen = []\n",
    "mana_snow = []\n",
    "mana_c = []\n",
    "mana_2b = []\n",
    "mana_phy = []\n",
    "mana_v = []\n",
    "mana_w = []\n",
    "mana_u = []\n",
    "mana_b = []\n",
    "mana_r = []\n",
    "mana_g = []\n",
    "cmc = []\n",
    "\n",
    "# For loop loops through list of cards\n",
    "for card in cards:\n",
    "    \n",
    "    # Navigates browser to card page.  Note that this picks the first option in the dropdown when a card name is entered.\n",
    "    # It is possible that the wrong card will be grabbed, so this is verified below.\n",
    "    browser.fill(\"ctl00$ctl00$MainContent$Content$SearchControls$CardSearchBoxParent$CardSearchBox\", card)\n",
    "    time.sleep(1)\n",
    "    browser.links.find_by_partial_text(card).click()\n",
    "    \n",
    "    # Soup object is crafted at card page so html can be read\n",
    "    html = browser.html\n",
    "    hot_soup = BeautifulSoup(html, \"html.parser\")\n",
    "    \n",
    "    # Check to see if card navigation was successful.  Name must be extracted from formatting to check strings are equal.\n",
    "    card_long = hot_soup.find(\"td\", class_=\"rightCol\").find(\"div\", class_=\"value\").text\n",
    "    card_name = extract_name(card, card_long)\n",
    "    if card != card_name:\n",
    "        bad_link.append([card,card_name])\n",
    "    \n",
    "    # Navigates back to search page\n",
    "    browser.back()"
   ]
  },
  {
   "cell_type": "code",
   "execution_count": 5,
   "metadata": {},
   "outputs": [
    {
     "data": {
      "text/plain": [
       "[['Reaper King', 'King Avatar']]"
      ]
     },
     "execution_count": 5,
     "metadata": {},
     "output_type": "execute_result"
    }
   ],
   "source": [
    "bad_link"
   ]
  }
 ],
 "metadata": {
  "kernelspec": {
   "display_name": "Python [conda env:PythonData] *",
   "language": "python",
   "name": "conda-env-PythonData-py"
  },
  "language_info": {
   "codemirror_mode": {
    "name": "ipython",
    "version": 3
   },
   "file_extension": ".py",
   "mimetype": "text/x-python",
   "name": "python",
   "nbconvert_exporter": "python",
   "pygments_lexer": "ipython3",
   "version": "3.6.10"
  }
 },
 "nbformat": 4,
 "nbformat_minor": 4
}
