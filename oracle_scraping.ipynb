{
 "cells": [
  {
   "cell_type": "code",
   "execution_count": 4,
   "metadata": {},
   "outputs": [],
   "source": [
    "# Import Dependencies\n",
    "import pandas as pd\n",
    "from splinter import Browser\n",
    "from bs4 import BeautifulSoup"
   ]
  },
  {
   "cell_type": "code",
   "execution_count": 5,
   "metadata": {},
   "outputs": [],
   "source": [
    "# Create browser to navigate oracle\n",
    "executable_path = {'executable_path': 'chromedriver.exe'}\n",
    "browser = Browser('chrome', **executable_path, headless=False)\n",
    "url = 'https://gatherer.wizards.com/Pages/Default.aspx'\n",
    "browser.visit(url)"
   ]
  },
  {
   "cell_type": "code",
   "execution_count": 6,
   "metadata": {},
   "outputs": [],
   "source": [
    "# Here will be the list with all cards which will be converted from a csv.\n",
    "cards = [\"Goblin Matron\"]\n",
    "\n",
    "# Empty lists are initialized.\n",
    "# Mana is saved as [gen]eric, [snow], [c]olorless, [w]hite, bl[u]e, [b]lack, [r]ed, [g]reen (hybrid mana counted twice).\n",
    "# Converted Mana cost (cmc) is the total mana needed to cast (this will be less that total of columns if hybrid mana)\n",
    "mana_gen = []\n",
    "mana_snow = []\n",
    "mana_c = []\n",
    "mana_w = []\n",
    "mana_u = []\n",
    "mana_b = []\n",
    "mana_r = []\n",
    "mana_g = []\n",
    "\n",
    "# For loop loops through list of cards\n",
    "for card in cards:\n",
    "    \n",
    "    # Navigates browser to card page\n",
    "    browser.fill(\"ctl00$ctl00$MainContent$Content$SearchControls$CardSearchBoxParent$CardSearchBox\", card)\n",
    "    browser.find_by_name(\"ctl00$ctl00$MainContent$Content$SearchControls$searchSubmitButton\").click()"
   ]
  },
  {
   "cell_type": "code",
   "execution_count": null,
   "metadata": {},
   "outputs": [],
   "source": []
  }
 ],
 "metadata": {
  "kernelspec": {
   "display_name": "Python [conda env:PythonData] *",
   "language": "python",
   "name": "conda-env-PythonData-py"
  },
  "language_info": {
   "codemirror_mode": {
    "name": "ipython",
    "version": 3
   },
   "file_extension": ".py",
   "mimetype": "text/x-python",
   "name": "python",
   "nbconvert_exporter": "python",
   "pygments_lexer": "ipython3",
   "version": "3.6.10"
  }
 },
 "nbformat": 4,
 "nbformat_minor": 4
}
