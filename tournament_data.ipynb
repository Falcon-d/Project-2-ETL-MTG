{
 "cells": [
  {
   "cell_type": "code",
   "execution_count": 18,
   "metadata": {},
   "outputs": [],
   "source": [
    "import pandas as pd\n",
    "\n",
    "from splinter import Browser\n",
    "from bs4 import BeautifulSoup"
   ]
  },
  {
   "cell_type": "code",
   "execution_count": 19,
   "metadata": {},
   "outputs": [],
   "source": [
    "executable_path = {'executable_path': 'chromedriver.exe'}\n",
    "browser = Browser('chrome', **executable_path, headless=False)"
   ]
  },
  {
   "cell_type": "code",
   "execution_count": 20,
   "metadata": {},
   "outputs": [],
   "source": [
    "url = 'https://www.mtggoldfish.com/metagame/pauper#paper'\n",
    "browser.visit(url)\n",
    "html = browser.html\n",
    "soup = BeautifulSoup(html, 'html.parser')"
   ]
  },
  {
   "cell_type": "code",
   "execution_count": 21,
   "metadata": {},
   "outputs": [
    {
     "ename": "SyntaxError",
     "evalue": "unexpected EOF while parsing (<ipython-input-21-fb367e674782>, line 44)",
     "output_type": "error",
     "traceback": [
      "\u001b[1;36m  File \u001b[1;32m\"<ipython-input-21-fb367e674782>\"\u001b[1;36m, line \u001b[1;32m44\u001b[0m\n\u001b[1;33m    \u001b[0m\n\u001b[1;37m    ^\u001b[0m\n\u001b[1;31mSyntaxError\u001b[0m\u001b[1;31m:\u001b[0m unexpected EOF while parsing\n"
     ]
    }
   ],
   "source": [
    "items = soup.find_all('div', class_ = 'decks-sidebar')\n",
    "\n",
    "items2 = soup.find_all('tr')\n",
    "\n",
    "card_name = []\n",
    "num_card = []\n",
    "card_price = []\n",
    "\n",
    "# store the url \n",
    "tournament_main_url = 'https://www.mtggoldfish.com/'\n",
    "\n",
    "# loop through the items previously stored\n",
    "for i in items:\n",
    "    try:\n",
    "        # store link that leads to full image website\n",
    "        partial_url = browser.links.find_by_partial_href ('/tournament/pauper-league')\n",
    "\n",
    "        # visit the link that contains the full image website \n",
    "        browser.visit(tournament_main_url + partial_url)\n",
    "\n",
    "        for x in items2:\n",
    "            try:\n",
    "\n",
    "                partial_url2 = browser.links.find_by_partial_href('/deck')\n",
    "\n",
    "                browser.visit(tournament_main_url + partial_url2)\n",
    "\n",
    "                name = results.find('td', class_ = 'deck-col-card').text\n",
    "                cards = results.find('td', class_ = 'deck-col-qty').text\n",
    "                price = results.find('td', class_ = 'deck-col-price').text\n",
    "        \n",
    "                if (name and cards and price):\n",
    "                    card_name.append(name)\n",
    "                    num_card.append(cards)\n",
    "                    card_price.append(price)\n",
    "                    \n",
    "            except AtrributeError as e:\n",
    "                print(e)\n",
    "        \n",
    "            #browser.back()\n",
    "        \n",
    "    #browser.back()\n",
    "        \n",
    "    \n"
   ]
  },
  {
   "cell_type": "code",
   "execution_count": null,
   "metadata": {},
   "outputs": [],
   "source": [
    "tournament = pd.DataFrame(card_name, num_card, card_price)\n",
    "tournament.head()"
   ]
  },
  {
   "cell_type": "code",
   "execution_count": null,
   "metadata": {},
   "outputs": [],
   "source": [
    "tournament.to_csv()"
   ]
  }
 ],
 "metadata": {
  "kernelspec": {
   "display_name": "Python 3",
   "language": "python",
   "name": "python3"
  },
  "language_info": {
   "codemirror_mode": {
    "name": "ipython",
    "version": 3
   },
   "file_extension": ".py",
   "mimetype": "text/x-python",
   "name": "python",
   "nbconvert_exporter": "python",
   "pygments_lexer": "ipython3",
   "version": "3.6.10"
  }
 },
 "nbformat": 4,
 "nbformat_minor": 4
}
